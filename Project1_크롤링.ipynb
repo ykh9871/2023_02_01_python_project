{
 "cells": [
  {
   "cell_type": "code",
   "execution_count": 52,
   "metadata": {},
   "outputs": [],
   "source": [
    "from selenium import webdriver\n",
    "from selenium.webdriver.common.by import By\n",
    "from selenium.webdriver.common.keys import Keys\n",
    "from selenium.webdriver.chrome.service import Service\n",
    "import time\n",
    "from selenium.webdriver.support.select import Select\n",
    "from bs4 import BeautifulSoup\n",
    "from selenium.webdriver.common.keys import Keys\n",
    "\n"
   ]
  },
  {
   "cell_type": "code",
   "execution_count": 56,
   "metadata": {},
   "outputs": [
    {
     "ename": "AttributeError",
     "evalue": "'WebDriver' object has no attribute 'find_element_by_class_name'",
     "output_type": "error",
     "traceback": [
      "\u001b[1;31m---------------------------------------------------------------------------\u001b[0m",
      "\u001b[1;31mAttributeError\u001b[0m                            Traceback (most recent call last)",
      "Cell \u001b[1;32mIn[56], line 15\u001b[0m\n\u001b[0;32m     12\u001b[0m time\u001b[39m.\u001b[39msleep(\u001b[39m5\u001b[39m)\n\u001b[0;32m     13\u001b[0m \u001b[39m#지점 상세보기를 포함하는 전체 html가져오기\u001b[39;00m\n\u001b[1;32m---> 15\u001b[0m scrolls \u001b[39m=\u001b[39m driver\u001b[39m.\u001b[39;49mfind_element_by_class_name(\u001b[39m'\u001b[39m\u001b[39mrMateH5__VBrowserScrollBar\u001b[39m\u001b[39m'\u001b[39m)\n\u001b[0;32m     16\u001b[0m driver\u001b[39m.\u001b[39mexecute_script(\u001b[39m'\u001b[39m\u001b[39marguments[0].scrollBy(0,Y)\u001b[39m\u001b[39m'\u001b[39m,scrolls)\n\u001b[0;32m     17\u001b[0m \u001b[39m#driver.find_element(By.XPATH,'//*[@id=\"grid1\"]/div/div/div[3]')\u001b[39;00m\n\u001b[0;32m     18\u001b[0m \u001b[39m#scrolls.send_keys(Keys.PAGE_DOWN)\u001b[39;00m\n\u001b[0;32m     19\u001b[0m \u001b[39m#driver.find_element(By.XPATH,'//*[@id=\"rMateH5__Content57\"]/div[2]/span').click()\u001b[39;00m\n\u001b[1;32m   (...)\u001b[0m\n\u001b[0;32m     26\u001b[0m \u001b[39m#content_2 = soup_1.find_all('span','rMateH5__Image')\u001b[39;00m\n\u001b[0;32m     27\u001b[0m \u001b[39m#print(content_2)\u001b[39;00m\n",
      "\u001b[1;31mAttributeError\u001b[0m: 'WebDriver' object has no attribute 'find_element_by_class_name'"
     ]
    }
   ],
   "source": [
    "s = Service('C:\\\\chromedriver_win32\\\\chromedriver')\n",
    "driver = webdriver.Chrome(service = s)\n",
    "# 사이트 열기\n",
    "url = 'https://tmacs.kotsa.or.kr/web/TG/TG300/TG3200/Tg3200_34.jsp?mid=S1812#'\n",
    "driver.get(url)\n",
    "time.sleep(2)\n",
    "driver.maximize_window()\n",
    "# 지역 + 연도 검색\n",
    "select = Select(driver.find_element(By.XPATH,'//*[@id=\"sido\"]'))\n",
    "select.select_by_visible_text('서울')\n",
    "driver.find_element(By.XPATH,'//*[@id=\"content\"]/div[2]/div[1]/div[2]/a').click()\n",
    "time.sleep(5)\n",
    "#지점 상세보기를 포함하는 전체 html가져오기\n",
    "\n",
    "scrolls = driver.find_element_by_class_name('rMateH5__VBrowserScrollBar')\n",
    "driver.execute_script('arguments[0].scrollBy(0,Y)',scrolls)\n",
    "#driver.find_element(By.XPATH,'//*[@id=\"grid1\"]/div/div/div[3]')\n",
    "#scrolls.send_keys(Keys.PAGE_DOWN)\n",
    "#driver.find_element(By.XPATH,'//*[@id=\"rMateH5__Content57\"]/div[2]/span').click()\n",
    "\n",
    "\n",
    "#html_1 = driver.page_source\n",
    "#soup_1 = BeautifulSoup(html_1, 'html.parser')\n",
    "#content_1 = soup_1.find('div','rMateH5__DataGrid').find('div','rMateH5__DataGridBaseContentHolder')\n",
    "#print(content_1)\n",
    "#content_2 = soup_1.find_all('span','rMateH5__Image')\n",
    "#print(content_2)\n"
   ]
  },
  {
   "cell_type": "code",
   "execution_count": null,
   "metadata": {},
   "outputs": [],
   "source": []
  }
 ],
 "metadata": {
  "kernelspec": {
   "display_name": "Python 3",
   "language": "python",
   "name": "python3"
  },
  "language_info": {
   "codemirror_mode": {
    "name": "ipython",
    "version": 3
   },
   "file_extension": ".py",
   "mimetype": "text/x-python",
   "name": "python",
   "nbconvert_exporter": "python",
   "pygments_lexer": "ipython3",
   "version": "3.10.6 (tags/v3.10.6:9c7b4bd, Aug  1 2022, 21:53:49) [MSC v.1932 64 bit (AMD64)]"
  },
  "orig_nbformat": 4,
  "vscode": {
   "interpreter": {
    "hash": "49f11bc3bbceea80d43b6585ef1fbb24305d1544ee10ff82b0a738254ffa1b3f"
   }
  }
 },
 "nbformat": 4,
 "nbformat_minor": 2
}
