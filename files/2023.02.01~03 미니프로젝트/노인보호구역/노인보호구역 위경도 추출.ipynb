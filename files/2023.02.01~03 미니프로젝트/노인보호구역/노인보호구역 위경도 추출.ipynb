{
 "cells": [
  {
   "cell_type": "markdown",
   "id": "e29a0870-af1a-4d31-a951-e3de5649b2aa",
   "metadata": {
    "tags": []
   },
   "source": [
    "#### 노인보호구역 위경도 추출"
   ]
  },
  {
   "cell_type": "code",
   "execution_count": 90,
   "id": "c23ca5ab-dbb9-4d0d-856c-8b33e7faa9c5",
   "metadata": {},
   "outputs": [],
   "source": [
    "import requests, json\n",
    "\n",
    "def get_location(address):\n",
    "    url = 'https://dapi.kakao.com/v2/local/search/address.json?query=' + address\n",
    "                  # 'KaKaoAK '는 그대로 두시고 개인키만 지우고 입력해 주세요.\n",
    "                  # ex) KakaoAK 6af8d4826f0e56c54bc794fa8a294\n",
    "    headers = {\"Authorization\": \"KakaoAK 1abd384878a541ec4f1a3f549f9f3d41\"}\n",
    "    api_json = json.loads(str(requests.get(url,headers=headers).text))\n",
    "    address = api_json['documents'][0]['address']\n",
    "    rcd =str(address['y']) + ','+ str(address['x'])\n",
    "    address_name = address['address_name']\n",
    "    return rcd\n"
   ]
  },
  {
   "cell_type": "code",
   "execution_count": 91,
   "id": "74e27f08-adb3-427d-b4e3-a06913ee6212",
   "metadata": {},
   "outputs": [
    {
     "name": "stdout",
     "output_type": "stream",
     "text": [
      "      연번  자치구         시설명             위치   지정일\n",
      "165  166  강동구  성암장수마을 요양원     구천면로68길 46  2016\n",
      "166  167  강동구   강동노인종합복지관    동남로71길 32-5  2018\n",
      "167  168  강동구       쉼터경로당  올림픽로89길 27-23  2019\n",
      "168  169  강동구     구립강암경로당   상암로15길 38-15  2020\n",
      "169  170  강동구     일자산자연공원      둔촌동 산 125  2021\n"
     ]
    }
   ],
   "source": [
    "import pandas as pd\n",
    "silver_csv = pd.read_csv('silver_zone.csv')\n",
    "print(silver_csv.tail())"
   ]
  },
  {
   "cell_type": "code",
   "execution_count": 92,
   "id": "271b2ef9-5a37-487a-bd6a-0d7265e8eea4",
   "metadata": {},
   "outputs": [
    {
     "name": "stdout",
     "output_type": "stream",
     "text": [
      "0    율곡로19길 17-8\n",
      "1      통일로14길 30\n",
      "2       삼일대로 467\n",
      "3       삼일대로 428\n",
      "4            인의동\n",
      "Name: 위치, dtype: object\n"
     ]
    }
   ],
   "source": [
    "silver_address= silver_csv['위치']\n",
    "print(silver_address.head())"
   ]
  },
  {
   "cell_type": "code",
   "execution_count": 93,
   "id": "bbcbc9ed-270e-484f-92f3-d50b0ae2b8ad",
   "metadata": {},
   "outputs": [],
   "source": [
    "latitude = []\n",
    "longitude = []\n",
    "for i in silver_address:\n",
    "    lat, lng = get_location(i).split(',')\n",
    "    latitude.append(lat)\n",
    "    longitude.append(lng)"
   ]
  },
  {
   "cell_type": "code",
   "execution_count": 94,
   "id": "23c7d6d2-3300-40a0-a934-2b4adc344cd6",
   "metadata": {},
   "outputs": [
    {
     "data": {
      "text/plain": [
       "170"
      ]
     },
     "execution_count": 94,
     "metadata": {},
     "output_type": "execute_result"
    }
   ],
   "source": [
    "len(latitude)\n",
    "len(longitude)"
   ]
  },
  {
   "cell_type": "code",
   "execution_count": 95,
   "id": "94c0443b-df9f-4658-85e1-7f79c48b466f",
   "metadata": {},
   "outputs": [
    {
     "data": {
      "text/html": [
       "<div>\n",
       "<style scoped>\n",
       "    .dataframe tbody tr th:only-of-type {\n",
       "        vertical-align: middle;\n",
       "    }\n",
       "\n",
       "    .dataframe tbody tr th {\n",
       "        vertical-align: top;\n",
       "    }\n",
       "\n",
       "    .dataframe thead th {\n",
       "        text-align: right;\n",
       "    }\n",
       "</style>\n",
       "<table border=\"1\" class=\"dataframe\">\n",
       "  <thead>\n",
       "    <tr style=\"text-align: right;\">\n",
       "      <th></th>\n",
       "      <th>시설명</th>\n",
       "      <th>주소</th>\n",
       "      <th>위도</th>\n",
       "      <th>경도</th>\n",
       "    </tr>\n",
       "  </thead>\n",
       "  <tbody>\n",
       "    <tr>\n",
       "      <th>0</th>\n",
       "      <td>종로노인종합복지관</td>\n",
       "      <td>율곡로19길 17-8</td>\n",
       "      <td>37.5766679096376</td>\n",
       "      <td>127.006020606379</td>\n",
       "    </tr>\n",
       "    <tr>\n",
       "      <th>1</th>\n",
       "      <td>종로노인종합복지관 무악센터</td>\n",
       "      <td>통일로14길 30</td>\n",
       "      <td>37.575816548027</td>\n",
       "      <td>126.958022080228</td>\n",
       "    </tr>\n",
       "    <tr>\n",
       "      <th>2</th>\n",
       "      <td>서울노인복지센터</td>\n",
       "      <td>삼일대로 467</td>\n",
       "      <td>37.5759657913407</td>\n",
       "      <td>126.985853298403</td>\n",
       "    </tr>\n",
       "    <tr>\n",
       "      <th>3</th>\n",
       "      <td>락희거리</td>\n",
       "      <td>삼일대로 428</td>\n",
       "      <td>37.5727635233966</td>\n",
       "      <td>126.987902476529</td>\n",
       "    </tr>\n",
       "    <tr>\n",
       "      <th>4</th>\n",
       "      <td>종묘광장공원 동순라길</td>\n",
       "      <td>인의동</td>\n",
       "      <td>37.5723311920992</td>\n",
       "      <td>126.997668102599</td>\n",
       "    </tr>\n",
       "    <tr>\n",
       "      <th>...</th>\n",
       "      <td>...</td>\n",
       "      <td>...</td>\n",
       "      <td>...</td>\n",
       "      <td>...</td>\n",
       "    </tr>\n",
       "    <tr>\n",
       "      <th>165</th>\n",
       "      <td>성암장수마을 요양원</td>\n",
       "      <td>구천면로68길 46</td>\n",
       "      <td>37.5486544703182</td>\n",
       "      <td>127.142465612824</td>\n",
       "    </tr>\n",
       "    <tr>\n",
       "      <th>166</th>\n",
       "      <td>강동노인종합복지관</td>\n",
       "      <td>동남로71길 32-5</td>\n",
       "      <td>37.5522111843463</td>\n",
       "      <td>127.15462055421</td>\n",
       "    </tr>\n",
       "    <tr>\n",
       "      <th>167</th>\n",
       "      <td>쉼터경로당</td>\n",
       "      <td>올림픽로89길 27-23</td>\n",
       "      <td>37.5467987956776</td>\n",
       "      <td>127.124086561623</td>\n",
       "    </tr>\n",
       "    <tr>\n",
       "      <th>168</th>\n",
       "      <td>구립강암경로당</td>\n",
       "      <td>상암로15길 38-15</td>\n",
       "      <td>37.5504579238426</td>\n",
       "      <td>127.132065946177</td>\n",
       "    </tr>\n",
       "    <tr>\n",
       "      <th>169</th>\n",
       "      <td>일자산자연공원</td>\n",
       "      <td>둔촌동 산 125</td>\n",
       "      <td>37.5313902429999</td>\n",
       "      <td>127.150739845797</td>\n",
       "    </tr>\n",
       "  </tbody>\n",
       "</table>\n",
       "<p>170 rows × 4 columns</p>\n",
       "</div>"
      ],
      "text/plain": [
       "                시설명             주소                위도                경도\n",
       "0         종로노인종합복지관    율곡로19길 17-8  37.5766679096376  127.006020606379\n",
       "1    종로노인종합복지관 무악센터      통일로14길 30   37.575816548027  126.958022080228\n",
       "2          서울노인복지센터       삼일대로 467  37.5759657913407  126.985853298403\n",
       "3              락희거리       삼일대로 428  37.5727635233966  126.987902476529\n",
       "4       종묘광장공원 동순라길            인의동  37.5723311920992  126.997668102599\n",
       "..              ...            ...               ...               ...\n",
       "165      성암장수마을 요양원     구천면로68길 46  37.5486544703182  127.142465612824\n",
       "166       강동노인종합복지관    동남로71길 32-5  37.5522111843463   127.15462055421\n",
       "167           쉼터경로당  올림픽로89길 27-23  37.5467987956776  127.124086561623\n",
       "168         구립강암경로당   상암로15길 38-15  37.5504579238426  127.132065946177\n",
       "169         일자산자연공원      둔촌동 산 125  37.5313902429999  127.150739845797\n",
       "\n",
       "[170 rows x 4 columns]"
      ]
     },
     "execution_count": 95,
     "metadata": {},
     "output_type": "execute_result"
    }
   ],
   "source": [
    "silver_address_df = pd.DataFrame({\"시설명\": silver_csv[\"시설명\"],\n",
    "                           '주소':silver_csv['위치'],\n",
    "                           '위도':latitude,\n",
    "                           '경도':longitude})\n",
    "\n",
    "silver_address_df"
   ]
  }
 ],
 "metadata": {
  "kernelspec": {
   "display_name": "Python 3 (ipykernel)",
   "language": "python",
   "name": "python3"
  },
  "language_info": {
   "codemirror_mode": {
    "name": "ipython",
    "version": 3
   },
   "file_extension": ".py",
   "mimetype": "text/x-python",
   "name": "python",
   "nbconvert_exporter": "python",
   "pygments_lexer": "ipython3",
   "version": "3.9.13"
  }
 },
 "nbformat": 4,
 "nbformat_minor": 5
}
